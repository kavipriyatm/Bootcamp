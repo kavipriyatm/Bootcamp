{
 "cells": [
  {
   "cell_type": "code",
   "execution_count": 1,
   "id": "c09ecca7-0802-442e-8121-d9c919400f57",
   "metadata": {},
   "outputs": [
    {
     "name": "stdout",
     "output_type": "stream",
     "text": [
      "Updated W5: 2.0500\n",
      "Updated W1: 3.1525\n"
     ]
    }
   ],
   "source": [
    "import numpy as np\n",
    "X = np.array([5, 10, 30, 1])  \n",
    "y = 20 \n",
    "W1, W2, W3, W4, W5, W6 = 1, 0, -1, 0.5, 1, -1\n",
    "learning_rate = 0.01\n",
    "H1 = W1 * X[0] + W2 * X[1] \n",
    "H2 = W3 * X[0] + W4 * X[3]  \n",
    "y_hat = W5 * H1 + W6 * H2 \n",
    "error = (y_hat - y) ** 2  \n",
    "dJ_dy_hat = 2 * (y_hat - y)  \n",
    "dy_hat_dW5 = H1  \n",
    "dJ_dW5 = dJ_dy_hat * dy_hat_dW5  \n",
    "W5 = W5 - learning_rate * dJ_dW5\n",
    "dy_hat_dH1 = W5\n",
    "dH1_dW1 = X[0]\n",
    "dJ_dH1 = dJ_dy_hat * dy_hat_dH1\n",
    "dJ_dW1 = dJ_dH1 * dH1_dW1\n",
    "W1 = W1 - learning_rate * dJ_dW1\n",
    "print(f\"Updated W5: {W5:.4f}\")\n",
    "print(f\"Updated W1: {W1:.4f}\")"
   ]
  },
  {
   "cell_type": "code",
   "execution_count": null,
   "id": "3d9ad588-b17f-4935-b656-2d9d29581636",
   "metadata": {},
   "outputs": [],
   "source": []
  }
 ],
 "metadata": {
  "kernelspec": {
   "display_name": "Python 3 (ipykernel)",
   "language": "python",
   "name": "python3"
  },
  "language_info": {
   "codemirror_mode": {
    "name": "ipython",
    "version": 3
   },
   "file_extension": ".py",
   "mimetype": "text/x-python",
   "name": "python",
   "nbconvert_exporter": "python",
   "pygments_lexer": "ipython3",
   "version": "3.10.11"
  }
 },
 "nbformat": 4,
 "nbformat_minor": 5
}
