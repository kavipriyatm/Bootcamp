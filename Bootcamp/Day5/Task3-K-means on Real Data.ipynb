{
 "cells": [
  {
   "cell_type": "code",
   "execution_count": 12,
   "id": "52e3998a-a7b2-4787-9f09-1d7f4881979e",
   "metadata": {},
   "outputs": [],
   "source": [
    "import pandas as pd\n",
    "import numpy as np\n",
    "import matplotlib.pyplot as plt\n",
    "import seaborn as sns\n",
    "from sklearn.cluster import KMeans\n",
    "from sklearn.preprocessing import StandardScaler"
   ]
  },
  {
   "cell_type": "code",
   "execution_count": 13,
   "id": "2fab8132-9454-4c91-8afb-41fa3a5384bc",
   "metadata": {},
   "outputs": [],
   "source": [
    "df = pd.read_csv('loan dataset_cleaned.csv')"
   ]
  },
  {
   "cell_type": "code",
   "execution_count": 14,
   "id": "18776812-8374-4726-a20c-467eb488bfb9",
   "metadata": {},
   "outputs": [],
   "source": [
    "features = ['Balance', 'Loan_Amount', 'EMI_Amount', 'Salary', 'Age']  # Modify as per your features\n",
    "X = df[features].values"
   ]
  },
  {
   "cell_type": "code",
   "execution_count": 15,
   "id": "5b99626d-ed4c-4bea-9b55-a8e51bd4acdc",
   "metadata": {},
   "outputs": [],
   "source": [
    "scaler = StandardScaler()\n",
    "X_scaled = scaler.fit_transform(X)"
   ]
  },
  {
   "cell_type": "code",
   "execution_count": 16,
   "id": "237f391c-d577-4bad-8015-be6fb07a3e72",
   "metadata": {},
   "outputs": [],
   "source": [
    "kmeans = KMeans(n_clusters=4, random_state=42, n_init=10)\n",
    "df['Cluster'] = kmeans.fit_predict(X_scaled)"
   ]
  },
  {
   "cell_type": "code",
   "execution_count": 17,
   "id": "2f07f3bf-fd3f-48d2-862b-54a8a519050c",
   "metadata": {},
   "outputs": [
    {
     "name": "stdout",
     "output_type": "stream",
     "text": [
      "  Customer_Name  Account_Number Account_Type  Balance Account_Creation_Date  \\\n",
      "0         Romil      7867156462      Current   180344            2011-07-07   \n",
      "1        Vivaan      8521329483      Savings   221155                   NaN   \n",
      "2          Anya      6696555432      Current   348905                   NaN   \n",
      "3          Sana      2212134069      Current   198739                   NaN   \n",
      "4         Rohan      4808094686         Loan   457045            2022-08-08   \n",
      "\n",
      "     Loan_ID Loan_Type  Interest_Rate  Loan_Amount  EMI_Amount  ... Age  \\\n",
      "0  LN-3763uL       Car           9.99     508285.0    15529.52  ...  31   \n",
      "1  LN-0125XV      Home          11.16    1644923.0    50791.57  ...  27   \n",
      "2  LN-6426LB       Car           9.91     591658.0    18063.65  ...  23   \n",
      "3  LN-1780xr       Car           9.39    1891094.0    57462.99  ...  34   \n",
      "4  LN-1663HC  Personal          13.80    2947874.0    93185.57  ...  57   \n",
      "\n",
      "  Marital status  income employment_type  tenure  eligibility  loan_amount  \\\n",
      "0        Married   91174         Private       8            1     508285.0   \n",
      "1        Married   53022      Government      15            0    1644923.0   \n",
      "2        Married  130084      Government       5            0     591658.0   \n",
      "3        Married   45691   Self-employed       5            0    1891094.0   \n",
      "4        Married  133666         Private       2            0    2947874.0   \n",
      "\n",
      "  Account_Creation_Year  Account_Creation_Month Cluster  \n",
      "0                2011.0                     7.0       2  \n",
      "1                   NaN                     NaN       3  \n",
      "2                   NaN                     NaN       0  \n",
      "3                   NaN                     NaN       3  \n",
      "4                2022.0                     8.0       3  \n",
      "\n",
      "[5 rows x 28 columns]\n"
     ]
    }
   ],
   "source": [
    "print(df.head())"
   ]
  },
  {
   "cell_type": "code",
   "execution_count": 18,
   "id": "c9b5736f-b7a0-4d84-b8eb-5b201963c66c",
   "metadata": {},
   "outputs": [
    {
     "name": "stderr",
     "output_type": "stream",
     "text": [
      "C:\\Users\\kavip\\AppData\\Local\\Temp\\ipykernel_100360\\3974162984.py:2: FutureWarning: \n",
      "\n",
      "Passing `palette` without assigning `hue` is deprecated and will be removed in v0.14.0. Assign the `x` variable to `hue` and set `legend=False` for the same effect.\n",
      "\n",
      "  sns.countplot(x=df['Cluster'], palette='viridis')\n"
     ]
    },
    {
     "data": {
      "image/png": "[encoded data removed]",
      "text/plain": [
       "<Figure size 800x500 with 1 Axes>"
      ]
     },
     "metadata": {},
     "output_type": "display_data"
    }
   ],
   "source": [
    "plt.figure(figsize=(8, 5))\n",
    "sns.countplot(x=df['Cluster'], palette='viridis')\n",
    "plt.xlabel('Cluster Label')\n",
    "plt.ylabel('Number of Customers')\n",
    "plt.title('Customer Segmentation based on Clusters')\n",
    "plt.show()"
   ]
  },
  {
   "cell_type": "code",
   "execution_count": null,
   "id": "0a29e215-e35d-4e88-90e3-47f0729fbcf4",
   "metadata": {},
   "outputs": [],
   "source": []
  }
 ],
 "metadata": {
  "kernelspec": {
   "display_name": "Python 3 (ipykernel)",
   "language": "python",
   "name": "python3"
  },
  "language_info": {
   "codemirror_mode": {
    "name": "ipython",
    "version": 3
   },
   "file_extension": ".py",
   "mimetype": "text/x-python",
   "name": "python",
   "nbconvert_exporter": "python",
   "pygments_lexer": "ipython3",
   "version": "3.10.11"
  }
 },
 "nbformat": 4,
 "nbformat_minor": 5
}
