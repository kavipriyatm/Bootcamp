{
 "cells": [
  {
   "cell_type": "code",
   "execution_count": 22,
   "id": "f55dd694-0f71-440b-b233-b0a0276cec65",
   "metadata": {},
   "outputs": [],
   "source": [
    "import os\n",
    "from langchain.document_loaders import DirectoryLoader, PyPDFLoader\n",
    "from langchain.text_splitter import RecursiveCharacterTextSplitter\n",
    "from langchain.embeddings import HuggingFaceEmbeddings\n",
    "from langchain.vectorstores import FAISS"
   ]
  },
  {
   "cell_type": "code",
   "execution_count": 23,
   "id": "c3761f10-efa2-488b-b3c0-dea4379474bf",
   "metadata": {},
   "outputs": [],
   "source": [
    "DATA_PATH = \"pdfs\"\n"
   ]
  },
  {
   "cell_type": "code",
   "execution_count": 24,
   "id": "2266b70b-9a7d-4c92-b802-17c80a1bd5b7",
   "metadata": {},
   "outputs": [
    {
     "name": "stdout",
     "output_type": "stream",
     "text": [
      "Loaded 2 documents.\n"
     ]
    }
   ],
   "source": [
    "loader = DirectoryLoader(DATA_PATH, glob=\"*.pdf\", loader_cls=PyPDFLoader)\n",
    "documents = loader.load()\n",
    "print(f\"Loaded {len(documents)} documents.\")"
   ]
  },
  {
   "cell_type": "code",
   "execution_count": 25,
   "id": "82ba9040-e2da-4b4e-858c-27a6944386fc",
   "metadata": {},
   "outputs": [
    {
     "name": "stdout",
     "output_type": "stream",
     "text": [
      "Total Chunks Created: 3\n",
      "Embedding model loaded.\n"
     ]
    }
   ],
   "source": [
    "text_splitter = RecursiveCharacterTextSplitter(chunk_size=500, chunk_overlap=50)\n",
    "chunks = text_splitter.split_documents(documents)\n",
    "print(f\"Total Chunks Created: {len(chunks)}\")\n",
    "\n",
    "\n",
    "embedding_model = HuggingFaceEmbeddings(model_name=\"sentence-transformers/all-MiniLM-L6-v2\")\n",
    "print(\"Embedding model loaded.\")"
   ]
  },
  {
   "cell_type": "code",
   "execution_count": 30,
   "id": "65b8d868-1ac1-4951-81f5-238b33f943cd",
   "metadata": {},
   "outputs": [
    {
     "name": "stdout",
     "output_type": "stream",
     "text": [
      "✅ FAISS vector store created successfully!\n",
      "{'producer': 'iLovePDF', 'creator': 'PyPDF', 'creationdate': '', 'moddate': '2025-02-16T16:26:17+00:00', 'source': 'pdfs\\\\Printing of SNS DT Playbook after Editing for SNS Students (2)_removed.pdf', 'total_pages': 1, 'page': 0, 'page_label': '1'}\n",
      "{'producer': 'Qt 4.8.7', 'creator': 'wkhtmltopdf 0.12.3', 'creationdate': '2024-01-02T17:48:54+05:30', 'title': '', 'source': 'pdfs\\\\R23-2407402.pdf', 'total_pages': 1, 'page': 0, 'page_label': '1'}\n"
     ]
    }
   ],
   "source": [
    "vector_store = FAISS.from_documents(chunks, embedding_model)\n",
    "vector_store.save_local(\"vector_store\")\n",
    "if os.path.exists(\"vector_store\"):\n",
    "    print(\"✅ FAISS vector store created successfully!\")\n",
    "else:\n",
    "    print(\"❌ Error: FAISS vector store not found.\")\n",
    "\n",
    "\n",
    "for doc in documents:\n",
    "    print(doc.metadata)  "
   ]
  },
  {
   "cell_type": "code",
   "execution_count": null,
   "id": "6670c3ac-e9bb-4674-9f95-d69da73e2648",
   "metadata": {},
   "outputs": [],
   "source": []
  }
 ],
 "metadata": {
  "kernelspec": {
   "display_name": "Python 3 (ipykernel)",
   "language": "python",
   "name": "python3"
  },
  "language_info": {
   "codemirror_mode": {
    "name": "ipython",
    "version": 3
   },
   "file_extension": ".py",
   "mimetype": "text/x-python",
   "name": "python",
   "nbconvert_exporter": "python",
   "pygments_lexer": "ipython3",
   "version": "3.10.11"
  }
 },
 "nbformat": 4,
 "nbformat_minor": 5
}
