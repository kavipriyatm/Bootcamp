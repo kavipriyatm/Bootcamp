{
 "cells": [
  {
   "cell_type": "code",
   "execution_count": 1,
   "id": "1dc5cc0b-52eb-4f7a-a85a-5973ba97acf3",
   "metadata": {},
   "outputs": [
    {
     "name": "stdout",
     "output_type": "stream",
     "text": [
      "50\n",
      "75\n",
      "'Robot' object has no attribute '__energy_level'\n",
      "Charged! Current energy level: 100\n"
     ]
    }
   ],
   "source": [
    "class Robot:\n",
    "    def __init__(self, model, energy_level):\n",
    "        self._model = model  \n",
    "        self.__energy_level = energy_level  \n",
    "    \n",
    "    def get_energy(self):\n",
    "        return self.__energy_level\n",
    "  \n",
    "    def set_energy(self, energy):\n",
    "        if 0 <= energy <= 100:\n",
    "            self.__energy_level = energy\n",
    "        else:\n",
    "            print(\"Energy level must be between 0 and 100.\")\n",
    "\n",
    "    def charge(self, amount):\n",
    "        self.__energy_level += amount\n",
    "        return f\"Charged! Current energy level: {self.__energy_level}\"\n",
    "\n",
    "robot = Robot('Model-X', 50)\n",
    "print(robot.get_energy())  \n",
    "\n",
    "robot.set_energy(75)\n",
    "print(robot.get_energy())\n",
    "\n",
    "try:\n",
    "    print(robot.__energy_level) \n",
    "except AttributeError as e:\n",
    "    print(e)\n",
    "\n",
    "print(robot.charge(25))\n"
   ]
  },
  {
   "cell_type": "code",
   "execution_count": null,
   "id": "7a08fca0-dd5e-415a-80c2-6e9d96414278",
   "metadata": {},
   "outputs": [],
   "source": []
  }
 ],
 "metadata": {
  "kernelspec": {
   "display_name": "Python 3 (ipykernel)",
   "language": "python",
   "name": "python3"
  },
  "language_info": {
   "codemirror_mode": {
    "name": "ipython",
    "version": 3
   },
   "file_extension": ".py",
   "mimetype": "text/x-python",
   "name": "python",
   "nbconvert_exporter": "python",
   "pygments_lexer": "ipython3",
   "version": "3.10.11"
  }
 },
 "nbformat": 4,
 "nbformat_minor": 5
}
