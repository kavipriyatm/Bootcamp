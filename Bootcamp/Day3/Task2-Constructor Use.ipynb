{
 "cells": [
  {
   "cell_type": "code",
   "execution_count": 1,
   "id": "53410d66-f38b-4103-8567-fead124569dd",
   "metadata": {},
   "outputs": [
    {
     "name": "stdout",
     "output_type": "stream",
     "text": [
      "jacky\n",
      "4\n",
      "Jimmy\n",
      "3\n",
      "Dog is barking\n",
      "Dog is sleeping\n"
     ]
    }
   ],
   "source": [
    "class Dog:\n",
    "    name = \"jacky\"\n",
    "    age = 4\n",
    "    \n",
    "    def __init__(self, name, age):\n",
    "        self.name = name\n",
    "        self.age = age\n",
    "    \n",
    "    def bark(self):\n",
    "        return \"Dog is barking\"\n",
    "    \n",
    "    def sleep(self):\n",
    "        return \"Dog is sleeping\"\n",
    "\n",
    "d1 = Dog(\"Jimmy\", 3)\n",
    "\n",
    "print(Dog.name)\n",
    "print(Dog.age)\n",
    "\n",
    "print(d1.name)\n",
    "print(d1.age)\n",
    "\n",
    "print(d1.bark())\n",
    "print(d1.sleep())"
   ]
  },
  {
   "cell_type": "code",
   "execution_count": null,
   "id": "3c19abc4-2613-478a-af45-86b2fb02620e",
   "metadata": {},
   "outputs": [],
   "source": []
  }
 ],
 "metadata": {
  "kernelspec": {
   "display_name": "Python 3 (ipykernel)",
   "language": "python",
   "name": "python3"
  },
  "language_info": {
   "codemirror_mode": {
    "name": "ipython",
    "version": 3
   },
   "file_extension": ".py",
   "mimetype": "text/x-python",
   "name": "python",
   "nbconvert_exporter": "python",
   "pygments_lexer": "ipython3",
   "version": "3.10.11"
  }
 },
 "nbformat": 4,
 "nbformat_minor": 5
}
