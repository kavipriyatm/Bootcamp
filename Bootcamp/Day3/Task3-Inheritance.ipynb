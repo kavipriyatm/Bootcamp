{
 "cells": [
  {
   "cell_type": "code",
   "execution_count": 1,
   "id": "e8acfdd2-90f7-4058-b391-ca9fcff53209",
   "metadata": {},
   "outputs": [
    {
     "name": "stdout",
     "output_type": "stream",
     "text": [
      "Jacky\n",
      "3\n",
      "country\n",
      "Dog is barking\n",
      "Dog is sleeping\n",
      "Tom\n",
      "Puppy is weeping\n",
      "Puppy is playing\n"
     ]
    }
   ],
   "source": [
    "class Dog:\n",
    "    \n",
    "    def __init__(self, name, age, breed):  \n",
    "        self.name = name\n",
    "        self.age = age\n",
    "        self.breed = breed\n",
    "    \n",
    "    def bark(self):\n",
    "        return \"Dog is barking\"\n",
    "    \n",
    "    def sleep(self):\n",
    "        return \"Dog is sleeping\"\n",
    "\n",
    "d1 = Dog(\"Jacky\", 3, \"country\")\n",
    "print(d1.name)\n",
    "print(d1.age)\n",
    "print(d1.breed)\n",
    "print(d1.bark())\n",
    "print(d1.sleep())\n",
    "\n",
    "class Puppy(Dog):\n",
    "    def weep(self):\n",
    "        return \"Puppy is weeping\"\n",
    "\n",
    "    def play(self):\n",
    "        return \"Puppy is playing\"\n",
    "\n",
    "d2 = Puppy(\"Tom\", 1, \"gold\")\n",
    "print(d2.name)\n",
    "print(d2.weep())\n",
    "print(d2.play())\n",
    "\n"
   ]
  },
  {
   "cell_type": "code",
   "execution_count": null,
   "id": "23ebdfa5-417e-4bd0-bb01-1828ccf6d7ae",
   "metadata": {},
   "outputs": [],
   "source": []
  }
 ],
 "metadata": {
  "kernelspec": {
   "display_name": "Python 3 (ipykernel)",
   "language": "python",
   "name": "python3"
  },
  "language_info": {
   "codemirror_mode": {
    "name": "ipython",
    "version": 3
   },
   "file_extension": ".py",
   "mimetype": "text/x-python",
   "name": "python",
   "nbconvert_exporter": "python",
   "pygments_lexer": "ipython3",
   "version": "3.10.11"
  }
 },
 "nbformat": 4,
 "nbformat_minor": 5
}
