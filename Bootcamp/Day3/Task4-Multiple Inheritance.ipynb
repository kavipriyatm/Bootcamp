{
 "cells": [
  {
   "cell_type": "code",
   "execution_count": 1,
   "id": "3a47cab2-94c6-4680-94af-0089fef03e83",
   "metadata": {},
   "outputs": [
    {
     "name": "stdout",
     "output_type": "stream",
     "text": [
      "Dog is barking\n",
      "Dog is sleeping\n",
      "cat is meowing\n",
      "cat is puring\n",
      "Hybrid is speaking.\n"
     ]
    }
   ],
   "source": [
    "class Dog:\n",
    "    \n",
    "    def bark(self):\n",
    "        return \"Dog is barking\"\n",
    "\n",
    "    def sleep(self):\n",
    "        return \"Dog is sleeping\"\n",
    "class Cat:\n",
    "    def meow(self):\n",
    "        return \"cat is meowing\"\n",
    "    def purr(self):\n",
    "        return \"cat is puring\"\n",
    "\n",
    "class Hybrid(Dog, Cat):\n",
    "    def speak(self):\n",
    "        return \"Hybrid is speaking.\"\n",
    "       \n",
    "   \n",
    "hybrid = Hybrid()\n",
    "\n",
    "\n",
    "print(hybrid.bark())   \n",
    "print(hybrid.sleep())  \n",
    "print(hybrid.meow())   \n",
    "print(hybrid.purr())   \n",
    "print(hybrid.speak())"
   ]
  },
  {
   "cell_type": "code",
   "execution_count": null,
   "id": "560e008d-c366-4ca1-af20-eb730360cad9",
   "metadata": {},
   "outputs": [],
   "source": []
  }
 ],
 "metadata": {
  "kernelspec": {
   "display_name": "Python 3 (ipykernel)",
   "language": "python",
   "name": "python3"
  },
  "language_info": {
   "codemirror_mode": {
    "name": "ipython",
    "version": 3
   },
   "file_extension": ".py",
   "mimetype": "text/x-python",
   "name": "python",
   "nbconvert_exporter": "python",
   "pygments_lexer": "ipython3",
   "version": "3.10.11"
  }
 },
 "nbformat": 4,
 "nbformat_minor": 5
}
