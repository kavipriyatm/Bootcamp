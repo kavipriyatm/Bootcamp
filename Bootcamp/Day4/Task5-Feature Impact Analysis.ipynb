{
 "cells": [
  {
   "cell_type": "code",
   "execution_count": 1,
   "id": "cdeb0c10-201b-4bb7-a0eb-5f04192f5fc3",
   "metadata": {},
   "outputs": [],
   "source": [
    "# task5\n",
    "import pandas as pd\n",
    "import numpy as np\n",
    "import matplotlib.pyplot as plt\n",
    "from sklearn.model_selection import train_test_split\n",
    "from sklearn.linear_model import LinearRegression\n",
    "from sklearn.metrics import mean_squared_error, mean_absolute_error, r2_score\n",
    "from sklearn.preprocessing import PolynomialFeatures"
   ]
  },
  {
   "cell_type": "code",
   "execution_count": 3,
   "id": "ddd02509-d5bc-4995-a2b9-51e64b3868bb",
   "metadata": {},
   "outputs": [],
   "source": [
    "df = pd.read_csv('loan dataset_cleaned.csv')"
   ]
  },
  {
   "cell_type": "code",
   "execution_count": 4,
   "id": "d86c6028-38b9-4dc7-9be5-76eb8e0e1d39",
   "metadata": {},
   "outputs": [],
   "source": [
    "df.fillna(0, inplace=True) "
   ]
  },
  {
   "cell_type": "code",
   "execution_count": 5,
   "id": "a371b18e-0393-48dc-a5c7-b4e623ccb5b4",
   "metadata": {},
   "outputs": [],
   "source": [
    "features = ['Balance', 'Interest_Rate', 'Loan_Amount', 'EMI_Amount', \n",
    "            'cibil_score', 'Salary', 'Age', 'income', 'tenure', 'loan_amount']\n",
    "target = 'Loan_Amount'"
   ]
  },
  {
   "cell_type": "code",
   "execution_count": 6,
   "id": "4e651528-f323-4729-8a12-fd188c22c776",
   "metadata": {},
   "outputs": [],
   "source": [
    "X = df[features]\n",
    "y = df[target]\n"
   ]
  },
  {
   "cell_type": "code",
   "execution_count": 7,
   "id": "ba23fad6-72d5-4930-b3b9-5861fa879ae5",
   "metadata": {},
   "outputs": [],
   "source": [
    "X_train, X_test, y_train, y_test = train_test_split(X, y, test_size=0.2, random_state=42)"
   ]
  },
  {
   "cell_type": "code",
   "execution_count": 8,
   "id": "81891dc6-64c0-4f12-a65e-71cdc6164933",
   "metadata": {},
   "outputs": [
    {
     "name": "stdout",
     "output_type": "stream",
     "text": [
      "\n",
      "--- Linear Regression Performance ---\n",
      "Mean Squared Error (MSE): 0.0000\n",
      "Root Mean Squared Error (RMSE): 0.0000\n",
      "Mean Absolute Error (MAE): 0.0000\n",
      "R-Squared (R²): 1.0000\n"
     ]
    }
   ],
   "source": [
    "linear_model = LinearRegression()\n",
    "linear_model.fit(X_train, y_train)\n",
    "y_pred_linear = linear_model.predict(X_test)\n",
    "\n",
    "linear_mse = mean_squared_error(y_test, y_pred_linear)\n",
    "linear_rmse = np.sqrt(linear_mse)\n",
    "linear_mae = mean_absolute_error(y_test, y_pred_linear)\n",
    "linear_r2 = r2_score(y_test, y_pred_linear)\n",
    "\n",
    "print(\"\\n--- Linear Regression Performance ---\")\n",
    "print(f\"Mean Squared Error (MSE): {linear_mse:.4f}\")\n",
    "print(f\"Root Mean Squared Error (RMSE): {linear_rmse:.4f}\")\n",
    "print(f\"Mean Absolute Error (MAE): {linear_mae:.4f}\")\n",
    "print(f\"R-Squared (R²): {linear_r2:.4f}\")\n",
    "\n"
   ]
  },
  {
   "cell_type": "code",
   "execution_count": 9,
   "id": "e372d6a6-4b87-4b71-b196-d4a5e47b081b",
   "metadata": {},
   "outputs": [
    {
     "name": "stdout",
     "output_type": "stream",
     "text": [
      "\n",
      "--- Polynomial Regression Performance ---\n",
      "Polynomial Regression (Degree 2) -> MSE: 722338710387.2926, R²: 0.0099\n"
     ]
    }
   ],
   "source": [
    "poly = PolynomialFeatures(degree=2) \n",
    "X_train_poly = poly.fit_transform(X_train[['Balance']])  \n",
    "X_test_poly = poly.transform(X_test[['Balance']])\n",
    "\n",
    "poly_model = LinearRegression()\n",
    "poly_model.fit(X_train_poly, y_train)\n",
    "y_pred_poly = poly_model.predict(X_test_poly)\n",
    "\n",
    "poly_mse = mean_squared_error(y_test, y_pred_poly)\n",
    "poly_r2 = r2_score(y_test, y_pred_poly)\n",
    "\n",
    "print(\"\\n--- Polynomial Regression Performance ---\")\n",
    "print(f\"Polynomial Regression (Degree 2) -> MSE: {poly_mse:.4f}, R²: {poly_r2:.4f}\")"
   ]
  },
  {
   "cell_type": "code",
   "execution_count": 10,
   "id": "09b53e84-3390-4639-ac63-bdfaf2682f32",
   "metadata": {},
   "outputs": [
    {
     "name": "stdout",
     "output_type": "stream",
     "text": [
      "\n",
      "--- Feature Importance (Linear Model) ---\n",
      "         Feature   Coefficient\n",
      "2    Loan_Amount  1.000000e+00\n",
      "1  Interest_Rate  1.871481e-10\n",
      "4    cibil_score  1.953539e-13\n",
      "3     EMI_Amount  1.165734e-15\n",
      "0        Balance -4.339632e-17\n",
      "7         income -9.714451e-17\n",
      "5         Salary -1.110223e-16\n",
      "9    loan_amount -1.110223e-16\n",
      "6            Age -6.416343e-13\n",
      "8         tenure -3.563224e-12\n"
     ]
    }
   ],
   "source": [
    "coefficients = linear_model.coef_\n",
    "coefficients_df = pd.DataFrame({'Feature': features, 'Coefficient': coefficients})\n",
    "\n",
    "coefficients_df = coefficients_df.sort_values(by='Coefficient', ascending=False)\n",
    "\n",
    "print(\"\\n--- Feature Importance (Linear Model) ---\")\n",
    "print(coefficients_df)\n"
   ]
  },
  {
   "cell_type": "code",
   "execution_count": null,
   "id": "882c2041-54a9-4552-9756-935e5482b392",
   "metadata": {},
   "outputs": [],
   "source": []
  }
 ],
 "metadata": {
  "kernelspec": {
   "display_name": "Python 3 (ipykernel)",
   "language": "python",
   "name": "python3"
  },
  "language_info": {
   "codemirror_mode": {
    "name": "ipython",
    "version": 3
   },
   "file_extension": ".py",
   "mimetype": "text/x-python",
   "name": "python",
   "nbconvert_exporter": "python",
   "pygments_lexer": "ipython3",
   "version": "3.10.11"
  }
 },
 "nbformat": 4,
 "nbformat_minor": 5
}
