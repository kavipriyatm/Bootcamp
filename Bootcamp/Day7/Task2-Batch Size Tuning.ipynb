{
 "cells": [
  {
   "cell_type": "code",
   "execution_count": 14,
   "id": "f0980316-355f-4841-9aea-2aa6c2e78736",
   "metadata": {},
   "outputs": [],
   "source": [
    "import pandas as pd\n",
    "import tensorflow as tf\n",
    "from tensorflow import keras\n",
    "import matplotlib.pyplot as plt\n",
    "import numpy as np"
   ]
  },
  {
   "cell_type": "code",
   "execution_count": 15,
   "id": "959ed375-33b1-4b5b-8dc9-e33db8aa7981",
   "metadata": {},
   "outputs": [
    {
     "name": "stdout",
     "output_type": "stream",
     "text": [
      "Before update:\n",
      "w1: 0.15332996343827018, b1: 0.6967048876260453, w2: 0.47559959465486584, b2: 0.8278661801374354\n",
      "After update:\n",
      "w1: [0.18847614], b1: [0.71427798], w2: [0.51267326], b2: [0.86481552]\n"
     ]
    }
   ],
   "source": [
    "import numpy as np\n",
    "\n",
    "class ManualNN:\n",
    "    def __init__(self):  # Corrected the constructor name\n",
    "        self.w1 = np.random.randn()\n",
    "        self.b1 = np.random.randn()\n",
    "        self.w2 = np.random.randn()\n",
    "        self.b2 = np.random.randn()\n",
    "        self.learning_rate = 0.01\n",
    "    \n",
    "    def forward(self, x):\n",
    "        self.z1 = self.w1 * x + self.b1  \n",
    "        self.a1 = max(0, self.z1)  \n",
    "        self.z2 = self.w2 * self.a1 + self.b2  \n",
    "        return self.z2\n",
    "    \n",
    "    def compute_loss(self, y_pred, y_true):\n",
    "        return 0.5 * (y_pred - y_true) ** 2  \n",
    "    \n",
    "    def backward(self, x, y_true):\n",
    "        y_pred = self.forward(x)\n",
    "        \n",
    "        dL_dy = y_pred - y_true  \n",
    "        dL_dw2 = dL_dy * self.a1  \n",
    "        dL_db2 = dL_dy  \n",
    "        \n",
    "        dL_da1 = dL_dy * self.w2  \n",
    "        dL_dz1 = dL_da1 * (1 if self.z1 > 0 else 0)  \n",
    "        dL_dw1 = dL_dz1 * x \n",
    "        dL_db1 = dL_dz1  \n",
    "        \n",
    "        self.w1 -= self.learning_rate * dL_dw1\n",
    "        self.b1 -= self.learning_rate * dL_db1\n",
    "        self.w2 -= self.learning_rate * dL_dw2\n",
    "        self.b2 -= self.learning_rate * dL_db2\n",
    "\n",
    "nn = ManualNN()\n",
    "x_sample = np.array([2.0])  \n",
    "y_sample = np.array([5.0])  \n",
    "\n",
    "print(\"Before update:\")\n",
    "print(f\"w1: {nn.w1}, b1: {nn.b1}, w2: {nn.w2}, b2: {nn.b2}\")\n",
    "\n",
    "nn.backward(x_sample, y_sample) \n",
    "\n",
    "print(\"After update:\")\n",
    "print(f\"w1: {nn.w1}, b1: {nn.b1}, w2: {nn.w2}, b2: {nn.b2}\")\n"
   ]
  },
  {
   "cell_type": "code",
   "execution_count": null,
   "id": "823c6424-8188-4ad8-b7a0-548a1d4d6196",
   "metadata": {},
   "outputs": [],
   "source": []
  }
 ],
 "metadata": {
  "kernelspec": {
   "display_name": "Python 3 (ipykernel)",
   "language": "python",
   "name": "python3"
  },
  "language_info": {
   "codemirror_mode": {
    "name": "ipython",
    "version": 3
   },
   "file_extension": ".py",
   "mimetype": "text/x-python",
   "name": "python",
   "nbconvert_exporter": "python",
   "pygments_lexer": "ipython3",
   "version": "3.10.11"
  }
 },
 "nbformat": 4,
 "nbformat_minor": 5
}
